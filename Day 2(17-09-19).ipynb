{
 "cells": [
  {
   "cell_type": "markdown",
   "metadata": {},
   "source": [
    "### Control Statements\n",
    "- Conditional statements or Section Statements\n",
    "    - if-else\n",
    "- Iteration or Loop statements\n",
    "    - while\n",
    "    - for"
   ]
  },
  {
   "cell_type": "code",
   "execution_count": 2,
   "metadata": {},
   "outputs": [
    {
     "name": "stdout",
     "output_type": "stream",
     "text": [
      "Which year: 2016\n",
      "Leap year\n"
     ]
    }
   ],
   "source": [
    "#check the input is leap year or not\n",
    "year = int(input('Which year: '))\n",
    "if year % 400 == 0 or (year % 100 != 0 and year %4 == 0):\n",
    "    print('Leap year')\n",
    "else:\n",
    "    print('Not a leap year')"
   ]
  },
  {
   "cell_type": "markdown",
   "metadata": {},
   "source": [
    "### While loop"
   ]
  },
  {
   "cell_type": "code",
   "execution_count": 9,
   "metadata": {},
   "outputs": [
    {
     "name": "stdout",
     "output_type": "stream",
     "text": [
      "Enter your limit:54\n",
      "1 2 3 4 5 6 7 8 9 10 11 12 13 14 15 16 17 18 19 20 21 22 23 24 25 26 27 28 29 30 31 32 33 34 35 36 37 38 39 40 41 42 43 44 45 46 47 48 49 50 51 52 53 54 "
     ]
    }
   ],
   "source": [
    "n  = int(input('Enter your limit:'))\n",
    "i = 1\n",
    "while i <= n:\n",
    "    print(i,end=' ')\n",
    "    i += 1"
   ]
  },
  {
   "cell_type": "code",
   "execution_count": 2,
   "metadata": {},
   "outputs": [
    {
     "name": "stdout",
     "output_type": "stream",
     "text": [
      "Enter a number:10\n",
      "Sum =  30\n"
     ]
    }
   ],
   "source": [
    "even = int(input('Enter a number:'))\n",
    "i = 1\n",
    "sum = 0\n",
    "while i <= even:\n",
    "    if i % 2 == 0:\n",
    "        sum = sum + i\n",
    "    i += 1\n",
    "print ('Sum = ', sum)\n",
    "        "
   ]
  },
  {
   "cell_type": "code",
   "execution_count": 6,
   "metadata": {},
   "outputs": [
    {
     "name": "stdout",
     "output_type": "stream",
     "text": [
      "Enter a number:123\n",
      "3 2 1 "
     ]
    }
   ],
   "source": [
    "n = int(input('Enter a number:'))\n",
    "while n != 0:\n",
    "    print(n%10, end=' ')\n",
    "    n = n // 10"
   ]
  },
  {
   "cell_type": "markdown",
   "metadata": {},
   "source": [
    "### Functional Programming\n",
    "\n",
    "- Single\n",
    "- Easy understand\n",
    "- Better reusability\n",
    "- Lengthy programs will be divided into Subprograms"
   ]
  },
  {
   "cell_type": "code",
   "execution_count": 11,
   "metadata": {},
   "outputs": [
    {
     "name": "stdout",
     "output_type": "stream",
     "text": [
      "Enter a number: 546845521238448\n"
     ]
    },
    {
     "data": {
      "text/plain": [
       "50"
      ]
     },
     "execution_count": 11,
     "metadata": {},
     "output_type": "execute_result"
    }
   ],
   "source": [
    "n = int(input(\"Enter a number: \"))\n",
    "def even_no(n):\n",
    "    sum = 0\n",
    "    while n!= 0:\n",
    "        r = n %10\n",
    "        if r % 2 == 0:\n",
    "            sum = sum + r\n",
    "        n = n // 10\n",
    "    return sum\n",
    "even_no(n)"
   ]
  },
  {
   "cell_type": "code",
   "execution_count": 17,
   "metadata": {},
   "outputs": [
    {
     "name": "stdout",
     "output_type": "stream",
     "text": [
      "Enter a large digit: 218505413348985\n"
     ]
    },
    {
     "data": {
      "text/plain": [
       "9"
      ]
     },
     "execution_count": 17,
     "metadata": {},
     "output_type": "execute_result"
    }
   ],
   "source": [
    "#Input as a number\n",
    "n = int(input('Enter a large digit: '))\n",
    "def large_digit(n):\n",
    "    large = 0\n",
    "    while n != 0:\n",
    "        rem = n % 10\n",
    "        if rem > large:\n",
    "            large = rem\n",
    "        n = n // 10\n",
    "    return large\n",
    "large_digit(n)"
   ]
  },
  {
   "cell_type": "code",
   "execution_count": 25,
   "metadata": {},
   "outputs": [
    {
     "name": "stdout",
     "output_type": "stream",
     "text": [
      "Yes\n",
      "No\n"
     ]
    }
   ],
   "source": [
    "def factorial(x):\n",
    "    fact = 1\n",
    "    i = 1\n",
    "    while i <= x:\n",
    "        fact = fact * i\n",
    "        i = i + 1\n",
    "    return fact\n",
    "\n",
    "def fact_sum(n):\n",
    "    buffer = n\n",
    "    s = 0\n",
    "    while n != 0:\n",
    "        rem = n % 10\n",
    "        s = s + factorial(rem)\n",
    "        n = n // 10\n",
    "    if buffer == s:\n",
    "        return\"Yes\"\n",
    "    else:\n",
    "        return\"No\"\n",
    "    return\n",
    "print(fact_sum(145))\n",
    "print(fact_sum(123))"
   ]
  },
  {
   "cell_type": "code",
   "execution_count": 32,
   "metadata": {},
   "outputs": [
    {
     "name": "stdout",
     "output_type": "stream",
     "text": [
      "Enter a number:5421\n",
      "Not a palindrome\n"
     ]
    }
   ],
   "source": [
    "n = int(input(\"Enter a number:\"))\n",
    "def palindrome(n):\n",
    "    temp = n\n",
    "    rev = 0\n",
    "    while n != 0:\n",
    "        rem = n % 10\n",
    "        rev = rev*10 + rem\n",
    "        n = n // 10\n",
    "    if(rev == temp):\n",
    "        print('Palindrome')\n",
    "    else:\n",
    "        print('Not a palindrome')\n",
    "    return \n",
    "palindrome(n)"
   ]
  },
  {
   "cell_type": "code",
   "execution_count": 35,
   "metadata": {},
   "outputs": [
    {
     "name": "stdout",
     "output_type": "stream",
     "text": [
      "5 6 7 8 9 10 11 12 13 14 15 16 17 18 19 20 21 22 23 24 25 "
     ]
    }
   ],
   "source": [
    "def series(low,high):\n",
    "    for i in range (low,high+1):\n",
    "        print(i, end=' ')\n",
    "    return\n",
    "series(5,25)"
   ]
  },
  {
   "cell_type": "code",
   "execution_count": 1,
   "metadata": {},
   "outputs": [
    {
     "name": "stdout",
     "output_type": "stream",
     "text": [
      "100 104 108 112 116 120 124 128 132 136 140 "
     ]
    }
   ],
   "source": [
    "def ser_of_product(low,high):\n",
    "    for i in range (low,high+1,4):\n",
    "        print(i,end=' ')\n",
    "    return\n",
    "ser_of_product(100,140)"
   ]
  },
  {
   "cell_type": "code",
   "execution_count": null,
   "metadata": {},
   "outputs": [],
   "source": []
  },
  {
   "cell_type": "code",
   "execution_count": null,
   "metadata": {},
   "outputs": [],
   "source": []
  },
  {
   "cell_type": "code",
   "execution_count": null,
   "metadata": {},
   "outputs": [],
   "source": []
  },
  {
   "cell_type": "code",
   "execution_count": null,
   "metadata": {},
   "outputs": [],
   "source": []
  },
  {
   "cell_type": "code",
   "execution_count": null,
   "metadata": {},
   "outputs": [],
   "source": []
  },
  {
   "cell_type": "code",
   "execution_count": null,
   "metadata": {},
   "outputs": [],
   "source": []
  },
  {
   "cell_type": "code",
   "execution_count": null,
   "metadata": {},
   "outputs": [],
   "source": []
  },
  {
   "cell_type": "code",
   "execution_count": null,
   "metadata": {},
   "outputs": [],
   "source": []
  }
 ],
 "metadata": {
  "kernelspec": {
   "display_name": "Python 3",
   "language": "python",
   "name": "python3"
  },
  "language_info": {
   "codemirror_mode": {
    "name": "ipython",
    "version": 3
   },
   "file_extension": ".py",
   "mimetype": "text/x-python",
   "name": "python",
   "nbconvert_exporter": "python",
   "pygments_lexer": "ipython3",
   "version": "3.7.3"
  }
 },
 "nbformat": 4,
 "nbformat_minor": 2
}
