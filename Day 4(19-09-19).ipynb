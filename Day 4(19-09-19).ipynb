{
 "cells": [
  {
   "cell_type": "code",
   "execution_count": 3,
   "metadata": {},
   "outputs": [
    {
     "name": "stdout",
     "output_type": "stream",
     "text": [
      "PYTHON\n",
      "python\n"
     ]
    }
   ],
   "source": [
    "s1 = 'python'\n",
    "print(s1.upper())\n",
    "print(s1.lower())"
   ]
  },
  {
   "cell_type": "markdown",
   "metadata": {},
   "source": [
    "# String Boolean Function\n",
    "- True or false\n",
    "- islower() -- True if all characters of the string have lower case\n",
    "- isupper() -- True if all characters of the string have upper case\n",
    "- istitle() -- True if the string is title case\n",
    "- isnumeric() -- True if the string is numeric"
   ]
  },
  {
   "cell_type": "code",
   "execution_count": 5,
   "metadata": {},
   "outputs": [
    {
     "name": "stdout",
     "output_type": "stream",
     "text": [
      "False\n",
      "True\n"
     ]
    }
   ],
   "source": [
    "s1 = 'python'\n",
    "print(s1.isupper())\n",
    "print(s1.islower())"
   ]
  },
  {
   "cell_type": "code",
   "execution_count": 8,
   "metadata": {},
   "outputs": [
    {
     "name": "stdout",
     "output_type": "stream",
     "text": [
      "True\n"
     ]
    }
   ],
   "source": [
    "s1 = 'Python Programming'\n",
    "print(s1.istitle())"
   ]
  },
  {
   "cell_type": "code",
   "execution_count": 11,
   "metadata": {},
   "outputs": [
    {
     "name": "stdout",
     "output_type": "stream",
     "text": [
      "True\n",
      "False\n"
     ]
    }
   ],
   "source": [
    "s1 = '4345872'\n",
    "print(s1.isnumeric())\n",
    "s1 = 'py133'\n",
    "print(s1.isnumeric())"
   ]
  },
  {
   "cell_type": "code",
   "execution_count": 10,
   "metadata": {},
   "outputs": [
    {
     "name": "stdout",
     "output_type": "stream",
     "text": [
      "True\n",
      "False\n"
     ]
    }
   ],
   "source": [
    "s1 = 'Python'\n",
    "print(s1.isalpha())\n",
    "s1 = '13235'\n",
    "print(s1.isalpha())"
   ]
  },
  {
   "cell_type": "code",
   "execution_count": 13,
   "metadata": {},
   "outputs": [
    {
     "name": "stdout",
     "output_type": "stream",
     "text": [
      "True\n",
      "False\n"
     ]
    }
   ],
   "source": [
    "s1 = ' '\n",
    "print(s1.isspace())\n",
    "s1 =' 1 2 3 '\n",
    "print(s1.isspace())"
   ]
  },
  {
   "cell_type": "markdown",
   "metadata": {},
   "source": [
    "# String Methods\n",
    "- split()\n",
    "- replace()\n",
    "- join()"
   ]
  },
  {
   "cell_type": "code",
   "execution_count": 14,
   "metadata": {},
   "outputs": [
    {
     "name": "stdout",
     "output_type": "stream",
     "text": [
      "['Python', 'programming', 'learn', 'made', 'easy']\n"
     ]
    }
   ],
   "source": [
    "s1 = 'Python programming learn made easy'\n",
    "li = s1.split()\n",
    "print(li)"
   ]
  },
  {
   "cell_type": "code",
   "execution_count": 15,
   "metadata": {},
   "outputs": [
    {
     "name": "stdout",
     "output_type": "stream",
     "text": [
      "['Python progr', 'mming le', 'rn m', 'de e', 'sy']\n"
     ]
    }
   ],
   "source": [
    "s1 = 'Python programming learn made easy'\n",
    "li = s1.split('a')\n",
    "print(li)"
   ]
  },
  {
   "cell_type": "code",
   "execution_count": 16,
   "metadata": {},
   "outputs": [
    {
     "name": "stdout",
     "output_type": "stream",
     "text": [
      "Python_programming_learn_made_easy\n"
     ]
    }
   ],
   "source": [
    "s1 = 'Python programming learn made easy'\n",
    "print(s1.replace(' ','_'))"
   ]
  },
  {
   "cell_type": "code",
   "execution_count": 17,
   "metadata": {},
   "outputs": [
    {
     "name": "stdout",
     "output_type": "stream",
     "text": [
      "Python progr@mming le@rn m@de e@sy\n"
     ]
    }
   ],
   "source": [
    "s1 = 'Python programming learn made easy'\n",
    "print(s1.replace('a','@'))"
   ]
  },
  {
   "cell_type": "code",
   "execution_count": 20,
   "metadata": {},
   "outputs": [
    {
     "name": "stdout",
     "output_type": "stream",
     "text": [
      "P7y7t7h7o7n\n"
     ]
    }
   ],
   "source": [
    "s1 = 'Python'\n",
    "print(\"7\".join(s1))"
   ]
  },
  {
   "cell_type": "markdown",
   "metadata": {},
   "source": [
    "# String Formatting\n",
    "- classic version\n",
    "- Current Version Python"
   ]
  },
  {
   "cell_type": "code",
   "execution_count": 21,
   "metadata": {},
   "outputs": [
    {
     "name": "stdout",
     "output_type": "stream",
     "text": [
      "Python Programming \n"
     ]
    }
   ],
   "source": [
    "li = [\"Python\",\"Programming\"]\n",
    "print('%s %s ' %(li[0],li[1]))"
   ]
  },
  {
   "cell_type": "code",
   "execution_count": 22,
   "metadata": {},
   "outputs": [
    {
     "name": "stdout",
     "output_type": "stream",
     "text": [
      "1 2 3 4 \n"
     ]
    }
   ],
   "source": [
    "li = [1,2,3,4]\n",
    "print('%d %d %d %d ' %(li[0],li[1],li[2],li[3]))"
   ]
  },
  {
   "cell_type": "code",
   "execution_count": 23,
   "metadata": {},
   "outputs": [
    {
     "name": "stdout",
     "output_type": "stream",
     "text": [
      "List item 0 : Python \n",
      " List item 1 : Programming\n"
     ]
    }
   ],
   "source": [
    "li = [\"Python\",\"Programming\"]\n",
    "print(\"List item 0 : {0} \\n List item 1 : {1}\".format(li[0],li[1]))"
   ]
  },
  {
   "cell_type": "code",
   "execution_count": 24,
   "metadata": {},
   "outputs": [
    {
     "name": "stdout",
     "output_type": "stream",
     "text": [
      "1 2 3 4\n"
     ]
    }
   ],
   "source": [
    "li = [1,2,3,4]\n",
    "print('{0} {1} {2} {3}'.format(li[0],li[1],li[2],li[3]))"
   ]
  },
  {
   "cell_type": "markdown",
   "metadata": {},
   "source": [
    "## Dictionaries\n",
    "- It works on concept of unique data\n",
    "- key, value is the unique identifier of a value\n",
    "- Each key is separated from value colon(:)\n",
    "- Each key and value is separated by comma(,)\n",
    "- Dictionaries are enclosed with curly brackets({})\n"
   ]
  },
  {
   "cell_type": "code",
   "execution_count": 25,
   "metadata": {},
   "outputs": [
    {
     "name": "stdout",
     "output_type": "stream",
     "text": [
      "{'Name': 'Gitam', 'EmailID': 'gitamVizag@gmail.com', 'Address': 'Vizag'}\n"
     ]
    }
   ],
   "source": [
    "d1 = {\"Name\":\"Gitam\",\"EmailID\":\"gitamVizag@gmail.com\",\"Address\":\"Vizag\"}\n",
    "print(d1)"
   ]
  },
  {
   "cell_type": "code",
   "execution_count": 27,
   "metadata": {},
   "outputs": [
    {
     "data": {
      "text/plain": [
       "'gitamVizag@gmail.com'"
      ]
     },
     "execution_count": 27,
     "metadata": {},
     "output_type": "execute_result"
    }
   ],
   "source": [
    "d1[\"EmailID\"]"
   ]
  },
  {
   "cell_type": "code",
   "execution_count": 30,
   "metadata": {},
   "outputs": [],
   "source": [
    "d1[\"EmailID\"] = \"Gitam@hotmail.com\""
   ]
  },
  {
   "cell_type": "code",
   "execution_count": 31,
   "metadata": {},
   "outputs": [
    {
     "data": {
      "text/plain": [
       "'Gitam@hotmail.com'"
      ]
     },
     "execution_count": 31,
     "metadata": {},
     "output_type": "execute_result"
    }
   ],
   "source": [
    "d1[\"EmailID\"]"
   ]
  },
  {
   "cell_type": "code",
   "execution_count": 32,
   "metadata": {},
   "outputs": [
    {
     "data": {
      "text/plain": [
       "dict_keys(['Name', 'EmailID', 'Address'])"
      ]
     },
     "execution_count": 32,
     "metadata": {},
     "output_type": "execute_result"
    }
   ],
   "source": [
    "d1.keys()"
   ]
  },
  {
   "cell_type": "code",
   "execution_count": 33,
   "metadata": {},
   "outputs": [
    {
     "data": {
      "text/plain": [
       "dict_values(['Gitam', 'Gitam@hotmail.com', 'Vizag'])"
      ]
     },
     "execution_count": 33,
     "metadata": {},
     "output_type": "execute_result"
    }
   ],
   "source": [
    "d1.values()"
   ]
  },
  {
   "cell_type": "code",
   "execution_count": 34,
   "metadata": {},
   "outputs": [],
   "source": [
    "del d1[\"EmailID\"]"
   ]
  },
  {
   "cell_type": "code",
   "execution_count": 35,
   "metadata": {},
   "outputs": [
    {
     "data": {
      "text/plain": [
       "{'Name': 'Gitam', 'Address': 'Vizag'}"
      ]
     },
     "execution_count": 35,
     "metadata": {},
     "output_type": "execute_result"
    }
   ],
   "source": [
    "d1"
   ]
  },
  {
   "cell_type": "code",
   "execution_count": 36,
   "metadata": {},
   "outputs": [
    {
     "name": "stdout",
     "output_type": "stream",
     "text": [
      "dict_keys(['Name', 'Address'])\n"
     ]
    }
   ],
   "source": [
    "li = d1.keys()\n",
    "print(li)"
   ]
  },
  {
   "cell_type": "code",
   "execution_count": 37,
   "metadata": {},
   "outputs": [
    {
     "data": {
      "text/plain": [
       "{'Name': 'Gitam', 'Address': 'Vizag'}"
      ]
     },
     "execution_count": 37,
     "metadata": {},
     "output_type": "execute_result"
    }
   ],
   "source": [
    "d1"
   ]
  },
  {
   "cell_type": "code",
   "execution_count": 42,
   "metadata": {},
   "outputs": [],
   "source": [
    "del d1"
   ]
  },
  {
   "cell_type": "code",
   "execution_count": 43,
   "metadata": {},
   "outputs": [
    {
     "data": {
      "text/plain": [
       "{'Name': 'Gitam', 'EmailID': 'gitamVizag@gmail.com', 'Address': 'Vizag'}"
      ]
     },
     "execution_count": 43,
     "metadata": {},
     "output_type": "execute_result"
    }
   ],
   "source": [
    "d1 = {\"Name\":\"Gitam\",\"EmailID\":\"gitamVizag@gmail.com\",\"Address\":\"Vizag\"}\n",
    "d1"
   ]
  },
  {
   "cell_type": "markdown",
   "metadata": {},
   "source": [
    "## Contact Application\n",
    "- Add Contact Details\n",
    "- Search contact details\n",
    "- List all the contact (Merge/Import)\n",
    "    - Name1 : Value\n",
    "    - Name2 : Value\n",
    "- Modify or Update the contact details\n",
    "- Delete the contact details"
   ]
  },
  {
   "cell_type": "code",
   "execution_count": 45,
   "metadata": {},
   "outputs": [
    {
     "name": "stdout",
     "output_type": "stream",
     "text": [
      "Contact details are added successfully\n",
      "Contact details are added successfully\n",
      "Name already exists\n"
     ]
    }
   ],
   "source": [
    "contacts = {} #Empty dictionary object\n",
    "def addContacts(name,phone):\n",
    "    if name not in contacts: #Condition to check if name exists or not\n",
    "        contacts[name] = phone\n",
    "        print('Contact details are added successfully')\n",
    "    else:\n",
    "        print(\"Name already exists\")\n",
    "    return\n",
    "addContacts('Kabir','9685153806')\n",
    "addContacts('Rajesh','8686606680')\n",
    "addContacts('Kabir','9685153806')"
   ]
  },
  {
   "cell_type": "code",
   "execution_count": 46,
   "metadata": {},
   "outputs": [
    {
     "data": {
      "text/plain": [
       "{'Kabir': '9685153806', 'Rajesh': '8686606680'}"
      ]
     },
     "execution_count": 46,
     "metadata": {},
     "output_type": "execute_result"
    }
   ],
   "source": [
    "contacts"
   ]
  },
  {
   "cell_type": "code",
   "execution_count": 51,
   "metadata": {},
   "outputs": [
    {
     "name": "stdout",
     "output_type": "stream",
     "text": [
      "Kabir  :  9685153806\n",
      "Dinesh does not present\n",
      "Rakesh does not present\n",
      "Rajesh  :  8686606680\n"
     ]
    }
   ],
   "source": [
    "def searchContacts(name):\n",
    "    if name in contacts:\n",
    "        print(name, \" : \",contacts[name])\n",
    "    else:\n",
    "        print('{0} does not present' .format(name))\n",
    "    return\n",
    "searchContacts('Kabir')\n",
    "searchContacts('Dinesh')\n",
    "searchContacts('Rakesh')\n",
    "searchContacts('Rajesh')"
   ]
  },
  {
   "cell_type": "code",
   "execution_count": 55,
   "metadata": {},
   "outputs": [
    {
     "name": "stdout",
     "output_type": "stream",
     "text": [
      "3 Contacts are added\n"
     ]
    }
   ],
   "source": [
    "# Import new contact details\n",
    "# Merge the previous details with the new details\n",
    "def importContacts(newContacts):\n",
    "    contacts.update(newContacts)\n",
    "    print(len(newContacts.keys()),'Contacts are added')\n",
    "    return\n",
    "newContacts = {'Gitam':9852468266,'Sunil':7519548855,'Python': 9734218618}\n",
    "importContacts(newContacts)"
   ]
  },
  {
   "cell_type": "code",
   "execution_count": 56,
   "metadata": {},
   "outputs": [
    {
     "data": {
      "text/plain": [
       "{'Kabir': '9685153806',\n",
       " 'Rajesh': '8686606680',\n",
       " 'Gitam': 9852468266,\n",
       " 'Sunil': 7519548855,\n",
       " 'Python': 9734218618}"
      ]
     },
     "execution_count": 56,
     "metadata": {},
     "output_type": "execute_result"
    }
   ],
   "source": [
    "contacts"
   ]
  },
  {
   "cell_type": "code",
   "execution_count": 58,
   "metadata": {},
   "outputs": [
    {
     "name": "stdout",
     "output_type": "stream",
     "text": [
      "Rajesh Updated successfully\n",
      "Arjun not exists\n"
     ]
    }
   ],
   "source": [
    "def modifyContacts(name,phone):\n",
    "    if name in contacts:\n",
    "        contacts[name] = phone\n",
    "        print(name, \"Updated successfully\")\n",
    "    else:\n",
    "        print(name, \"not exists\")\n",
    "    return\n",
    "modifyContacts('Rajesh',9754694685)\n",
    "modifyContacts('Arjun',9751487654)"
   ]
  },
  {
   "cell_type": "code",
   "execution_count": 59,
   "metadata": {},
   "outputs": [
    {
     "name": "stdout",
     "output_type": "stream",
     "text": [
      "Deleted successfully\n"
     ]
    }
   ],
   "source": [
    "def deleteContacts(name):\n",
    "    if name in contacts:\n",
    "        del contacts[name]\n",
    "        print('Deleted successfully')\n",
    "    else:\n",
    "        print(name, \"not exists\")\n",
    "    return\n",
    "deleteContacts('Rajesh')"
   ]
  },
  {
   "cell_type": "code",
   "execution_count": 60,
   "metadata": {},
   "outputs": [
    {
     "data": {
      "text/plain": [
       "{'Kabir': '9685153806',\n",
       " 'Gitam': 9852468266,\n",
       " 'Sunil': 7519548855,\n",
       " 'Python': 9734218618}"
      ]
     },
     "execution_count": 60,
     "metadata": {},
     "output_type": "execute_result"
    }
   ],
   "source": [
    "contacts"
   ]
  },
  {
   "cell_type": "markdown",
   "metadata": {},
   "source": [
    "## Tuples\n",
    "\n",
    "- Tuples enclose within Parenthesis()\n",
    "\n",
    "## Differences between Tuples and list\n",
    "\n",
    "- List  are mutable -- can be changed / Modify\n",
    "    - read and write the data\n",
    "- Tuples are immutable -- can't be changed / Modified\n",
    "    - Read data only"
   ]
  },
  {
   "cell_type": "code",
   "execution_count": 61,
   "metadata": {},
   "outputs": [
    {
     "name": "stdout",
     "output_type": "stream",
     "text": [
      "(1, 2, 3, 4)\n"
     ]
    }
   ],
   "source": [
    "t1 = (1,2,3,4)\n",
    "print(t1)"
   ]
  },
  {
   "cell_type": "code",
   "execution_count": 62,
   "metadata": {},
   "outputs": [
    {
     "name": "stdout",
     "output_type": "stream",
     "text": [
      "(2, 1)\n"
     ]
    }
   ],
   "source": [
    "print(t1[1::-1])"
   ]
  },
  {
   "cell_type": "markdown",
   "metadata": {},
   "source": [
    "## Standard Libraries\n",
    " - Regular expressions\n",
    "     - To validate the Indian Mobile\n",
    "     - To validate the EmailID\n",
    "     - To validate the Username\n",
    "     - To validate the Password\n",
    " - Understanding the Regular Expressions\n",
    "     - [0-9] -- Any digit matching\n",
    "     - [a-z] -- Any lower case matching\n",
    "     - [A-Z] -- Any upper case matching\n",
    "     - Cap symbol is used to represent the start of Regular Expressions\n",
    "     - Dollar symbol is used to represent the end of Regular Expressions"
   ]
  },
  {
   "cell_type": "code",
   "execution_count": 63,
   "metadata": {},
   "outputs": [
    {
     "name": "stdout",
     "output_type": "stream",
     "text": [
      "True\n",
      "False\n"
     ]
    }
   ],
   "source": [
    "# Function to test the two digit number as input\n",
    "import re\n",
    "def twoDigitMatch(n):\n",
    "    pattern = '^[0-9]{2}$'\n",
    "    n = str(n)\n",
    "    if re.match(pattern,n):\n",
    "        return True\n",
    "    return False\n",
    "print(twoDigitMatch(12))\n",
    "print(twoDigitMatch(123))"
   ]
  },
  {
   "cell_type": "code",
   "execution_count": 66,
   "metadata": {},
   "outputs": [
    {
     "name": "stdout",
     "output_type": "stream",
     "text": [
      "True\n",
      "False\n",
      "False\n"
     ]
    }
   ],
   "source": [
    "# Regular Expression for Username\n",
    "# Username should contain lower and upper case\n",
    "# Length -- min-5 and max-12\n",
    "def validateUsername(s):\n",
    "    pattern = '^[a-zA-Z]{5,12}$'\n",
    "    if re.match(pattern,s):\n",
    "        return True\n",
    "    return False\n",
    "print(validateUsername('Akhil'))\n",
    "print(validateUsername('Kaki'))\n",
    "print(validateUsername('AkhilSaiKiran'))"
   ]
  },
  {
   "cell_type": "markdown",
   "metadata": {},
   "source": [
    "### Regular Expressions for Indian Mobile\n",
    "- 10 digit Number\n",
    "    - Firstnumber(6-9)\n",
    "    - Rest of 9 numbers(0-9)\n",
    "- 11 Digit Number\n",
    "    - First Number can be 0\n",
    "    - Second Number can be 6-9\n",
    "    - Rest can be 0-9\n",
    "- 13 Digit Number \n",
    "    - First number can be +\n",
    "    - Second can be 9\n",
    "    - Third can be 1\n",
    "    - Fourth (6-9)\n",
    "    - Rest (0-9)"
   ]
  },
  {
   "cell_type": "code",
   "execution_count": 7,
   "metadata": {},
   "outputs": [
    {
     "name": "stdout",
     "output_type": "stream",
     "text": [
      "Number:08342894832\n",
      "True\n"
     ]
    }
   ],
   "source": [
    "n = input('Number:')\n",
    "import re\n",
    "def validateIndMobile(n):\n",
    "    pattern = '^[6-9][0-9]{9}$|^[0][6-9][0-9]{9}$|^[+][9][1][6-9][0-9]{9}$'\n",
    "    if re.match(pattern,n):\n",
    "        return True\n",
    "    return False\n",
    "print(validateIndMobile(n))"
   ]
  },
  {
   "cell_type": "markdown",
   "metadata": {},
   "source": [
    "## Validate the Email ID\n",
    "- Example : Username@domainname.extension\n",
    "- Example : dsps@gmail.com\n",
    "- Username :\n",
    "    - Length of string is (6-15)\n",
    "    - No special characters except underscore(_) and dot(.)\n",
    "    - Username should not begin with underscore(_)\n",
    "    - All characters set digits, lower case and upper case\n",
    "        - Example : Anil_1889\n",
    "- Domain Name :\n",
    "     - Length of stringwill be (3 - 18)\n",
    "     - No special characters\n",
    "     - Characters will be set to digits, lower case and upper case\n",
    "         - Example : gmail,hotmail,ymail,rediff,etc...\n",
    "- Extensions :\n",
    "     - Length of string will be (2-4)\n",
    "     - No special characters\n",
    "     - Characters will be set to lower case"
   ]
  },
  {
   "cell_type": "code",
   "execution_count": 9,
   "metadata": {},
   "outputs": [
    {
     "name": "stdout",
     "output_type": "stream",
     "text": [
      "Email ID:rohanabhinav00@gmail.com\n"
     ]
    },
    {
     "data": {
      "text/plain": [
       "True"
      ]
     },
     "execution_count": 9,
     "metadata": {},
     "output_type": "execute_result"
    }
   ],
   "source": [
    "em = input('Email ID:')\n",
    "def validateEmailID(em):\n",
    "    pattern = '^[0-9a-zA-Z][0-9a-zA-Z_.]{6,15}[@][0-9a-zA-Z]{3,18}[.][a-z]{2,4}$'\n",
    "    if re.match(pattern,em):\n",
    "        return True\n",
    "    return False\n",
    "validateEmailID(em)"
   ]
  },
  {
   "cell_type": "markdown",
   "metadata": {},
   "source": [
    "## Python Graphics\n",
    "- Lib - turtle"
   ]
  },
  {
   "cell_type": "markdown",
   "metadata": {},
   "source": [
    "### Package, Module and Sub Package\n",
    "- A collection of modules\n",
    "### Module\n",
    "- "
   ]
  },
  {
   "cell_type": "code",
   "execution_count": 10,
   "metadata": {},
   "outputs": [
    {
     "data": {
      "text/plain": [
       "123"
      ]
     },
     "execution_count": 10,
     "metadata": {},
     "output_type": "execute_result"
    }
   ],
   "source": [
    "import math\n",
    "math.floor(123.456)"
   ]
  },
  {
   "cell_type": "code",
   "execution_count": 12,
   "metadata": {},
   "outputs": [
    {
     "data": {
      "text/plain": [
       "124"
      ]
     },
     "execution_count": 12,
     "metadata": {},
     "output_type": "execute_result"
    }
   ],
   "source": [
    "math.ceil(123.456)"
   ]
  },
  {
   "cell_type": "code",
   "execution_count": 17,
   "metadata": {},
   "outputs": [
    {
     "data": {
      "text/plain": [
       "3628800"
      ]
     },
     "execution_count": 17,
     "metadata": {},
     "output_type": "execute_result"
    }
   ],
   "source": [
    "from math import factorial as fact\n",
    "fact(10)"
   ]
  },
  {
   "cell_type": "code",
   "execution_count": 18,
   "metadata": {},
   "outputs": [
    {
     "data": {
      "text/plain": [
       "5"
      ]
     },
     "execution_count": 18,
     "metadata": {},
     "output_type": "execute_result"
    }
   ],
   "source": [
    "from math import gcd as gcd\n",
    "gcd(10,15)"
   ]
  },
  {
   "cell_type": "code",
   "execution_count": 26,
   "metadata": {},
   "outputs": [
    {
     "name": "stdout",
     "output_type": "stream",
     "text": [
      "45 70 32 52 28 59 81 36 9 10 "
     ]
    }
   ],
   "source": [
    "import random\n",
    "def genrannos(n,lb,ub):\n",
    "    for i in range (0,n):\n",
    "        print(random.randint(lb,ub),end=' ')\n",
    "    return\n",
    "genrannos(10,0,100)"
   ]
  },
  {
   "cell_type": "code",
   "execution_count": null,
   "metadata": {},
   "outputs": [],
   "source": [
    "# Create a simple game \n",
    "# Try to generate 20 numbers\n",
    "# Input : number\n",
    "# Present : Congrats!!!!\n",
    "# Not present : try again"
   ]
  },
  {
   "cell_type": "code",
   "execution_count": 59,
   "metadata": {},
   "outputs": [
    {
     "name": "stdout",
     "output_type": "stream",
     "text": [
      "[744, 642, 467, 662, 555, 257, 166, 946, 699, 808, 249, 970, 614, 564, 923, 319, 564, 606, 101, 721]\n",
      "Try Again!!!!!!!!!\n"
     ]
    }
   ],
   "source": [
    "from random import randint as rdint\n",
    "def genNumber(n,lb,ub):\n",
    "    li = []\n",
    "    for i in range (0,n):\n",
    "        li.append(rdint(lb,ub))\n",
    "    return li\n",
    "print(genNumber(20,100,999))\n",
    "def check(n):\n",
    "    li = genNumber(20,100,999)\n",
    "    if n in li:\n",
    "        print('Congrats!!!!!!!!!')\n",
    "    else:\n",
    "        print('Try Again!!!!!!!!!')\n",
    "    return\n",
    "check(587)"
   ]
  },
  {
   "cell_type": "code",
   "execution_count": 1,
   "metadata": {},
   "outputs": [],
   "source": [
    "import turtle\n",
    "a1 = turtle.Turtle()\n",
    "a1.forward(100)\n",
    "turtle.done()"
   ]
  },
  {
   "cell_type": "code",
   "execution_count": null,
   "metadata": {},
   "outputs": [],
   "source": []
  }
 ],
 "metadata": {
  "kernelspec": {
   "display_name": "Python 3",
   "language": "python",
   "name": "python3"
  },
  "language_info": {
   "codemirror_mode": {
    "name": "ipython",
    "version": 3
   },
   "file_extension": ".py",
   "mimetype": "text/x-python",
   "name": "python",
   "nbconvert_exporter": "python",
   "pygments_lexer": "ipython3",
   "version": "3.7.3"
  }
 },
 "nbformat": 4,
 "nbformat_minor": 2
}
